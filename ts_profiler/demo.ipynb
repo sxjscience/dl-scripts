{
 "cells": [
  {
   "cell_type": "markdown",
   "metadata": {},
   "source": [
    "# Tornasole Profiler Demo\n",
    "**1. SaturatedNetwork Use Case**\n",
    "    - monitor the same training on 2-node p3.8xl and p3.16xl (vgg19, imagenet, 4 workers each node) and analyze its    performance\n"
   ]
  },
  {
   "cell_type": "code",
   "execution_count": null,
   "metadata": {},
   "outputs": [],
   "source": [
    "# Import rule\n",
    "from rule import SaturatedNetwork, InefficientDataLoading"
   ]
  },
  {
   "cell_type": "code",
   "execution_count": null,
   "metadata": {},
   "outputs": [],
   "source": [
    "# Analyze the data collected every 100ms\n",
    "!cp output/100ms/*txt output/"
   ]
  },
  {
   "cell_type": "code",
   "execution_count": null,
   "metadata": {},
   "outputs": [],
   "source": [
    "# Create a SaturatedNetwork rule\n",
    "bandwidth = 10 # Gbps\n",
    "net = SaturatedNetwork(bandwidth)"
   ]
  },
  {
   "cell_type": "code",
   "execution_count": null,
   "metadata": {},
   "outputs": [],
   "source": [
    "# Analyze the metrics\n",
    "net.analyze()\n",
    "# Get analysis summary\n",
    "net.summary()"
   ]
  },
  {
   "cell_type": "code",
   "execution_count": null,
   "metadata": {},
   "outputs": [],
   "source": [
    "# Visualize the metrics, 1ms time interval\n",
    "graph = net.graph()\n",
    "graph.opts(width=800, height=450, framewise=True, title='Network Throughput (Gbps)')"
   ]
  },
  {
   "cell_type": "markdown",
   "metadata": {},
   "source": [
    "**2. Difference Between Fine-grained (100ms) and Coarse-grained (1s) Metrics**"
   ]
  },
  {
   "cell_type": "code",
   "execution_count": null,
   "metadata": {},
   "outputs": [],
   "source": [
    "# Analyze the data collected every 1s\n",
    "!cp output/1s/*txt output/"
   ]
  },
  {
   "cell_type": "code",
   "execution_count": null,
   "metadata": {},
   "outputs": [],
   "source": [
    "net_1s = SaturatedNetwork(bandwidth)\n",
    "net_1s.analyze()\n",
    "net_1s.summary()"
   ]
  },
  {
   "cell_type": "code",
   "execution_count": null,
   "metadata": {},
   "outputs": [],
   "source": [
    "graph_1s = net_1s.graph()\n",
    "graph.options(ylim=(0, 100))\n",
    "graph_1s.opts(width=800, height=450, framewise=True, title='Network Throughput (Gbps)')"
   ]
  },
  {
   "cell_type": "markdown",
   "metadata": {},
   "source": [
    "**3. Inefficient Data Loading **"
   ]
  },
  {
   "cell_type": "code",
   "execution_count": null,
   "metadata": {},
   "outputs": [],
   "source": [
    "# Data from training resnet50_v1 on a single GPU\n",
    "!cp output/single/*txt output/"
   ]
  },
  {
   "cell_type": "code",
   "execution_count": null,
   "metadata": {},
   "outputs": [],
   "source": [
    "data_loading = InefficientDataLoading()\n",
    "data_loading.analyze()"
   ]
  },
  {
   "cell_type": "code",
   "execution_count": null,
   "metadata": {},
   "outputs": [],
   "source": [
    "graph_data = data_loading.graph()\n",
    "graph_data.opts(width=800, height=450, framewise=True, title='CPU and GPU Utilization', legend_position='bottom_right')"
   ]
  },
  {
   "cell_type": "code",
   "execution_count": null,
   "metadata": {},
   "outputs": [],
   "source": [
    "graph_data = data_loading.graph(epoch=0, batch_start=1, batch_end=1, phase='Forward')\n",
    "# graph_data = data_loading.graph(epoch=0, batch_start=1, batch_end=30)\n",
    "graph_data.opts(width=800, height=450, framewise=True, title='CPU and GPU Utilization', legend_position='bottom_right')"
   ]
  },
  {
   "cell_type": "code",
   "execution_count": null,
   "metadata": {},
   "outputs": [],
   "source": []
  }
 ],
 "metadata": {
  "kernelspec": {
   "display_name": "Environment (conda_python3)",
   "language": "python",
   "name": "conda_python3"
  },
  "language_info": {
   "codemirror_mode": {
    "name": "ipython",
    "version": 3
   },
   "file_extension": ".py",
   "mimetype": "text/x-python",
   "name": "python",
   "nbconvert_exporter": "python",
   "pygments_lexer": "ipython3",
   "version": "3.6.5"
  }
 },
 "nbformat": 4,
 "nbformat_minor": 2
}
